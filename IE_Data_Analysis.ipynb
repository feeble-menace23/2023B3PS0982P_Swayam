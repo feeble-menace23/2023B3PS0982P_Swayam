{
  "nbformat": 4,
  "nbformat_minor": 0,
  "metadata": {
    "colab": {
      "provenance": [],
      "authorship_tag": "ABX9TyNExnuhsRiuwIMxcdkI2aIP",
      "include_colab_link": true
    },
    "kernelspec": {
      "name": "python3",
      "display_name": "Python 3"
    },
    "language_info": {
      "name": "python"
    }
  },
  "cells": [
    {
      "cell_type": "markdown",
      "metadata": {
        "id": "view-in-github",
        "colab_type": "text"
      },
      "source": [
        "<a href=\"https://colab.research.google.com/github/feeble-menace23/2023B3PS0982P_Swayam/blob/main/IE_Data_Analysis.ipynb\" target=\"_parent\"><img src=\"https://colab.research.google.com/assets/colab-badge.svg\" alt=\"Open In Colab\"/></a>"
      ]
    },
    {
      "cell_type": "code",
      "execution_count": 4,
      "metadata": {
        "id": "hZ0lqGtxg-h8"
      },
      "outputs": [],
      "source": [
        "# Conduct comprehensive econometric analysis\n",
        "import pandas as pd\n",
        "import numpy as np\n",
        "from scipy import stats\n",
        "from sklearn.linear_model import LinearRegression\n",
        "from sklearn.preprocessing import StandardScaler\n",
        "from sklearn.metrics import r2_score\n",
        "import statsmodels.api as sm\n",
        "from statsmodels.tsa.stattools import adfuller\n",
        "from statsmodels.stats.stattools import durbin_watson"
      ]
    },
    {
      "cell_type": "code",
      "source": [
        "# Load the data\n",
        "data = pd.read_csv('india_remittances_economic_data.csv')"
      ],
      "metadata": {
        "id": "jwZCLqJxtZO7"
      },
      "execution_count": 5,
      "outputs": []
    },
    {
      "cell_type": "markdown",
      "source": [
        "# 1. DESCRIPTIVE STATISTICS"
      ],
      "metadata": {
        "id": "9j9dvA0ktopF"
      }
    },
    {
      "cell_type": "code",
      "source": [
        "print(\"=\" * 60)\n",
        "print(\"COMPREHENSIVE ECONOMETRIC ANALYSIS\")\n",
        "print(\"Impact of Remittances on Economic Growth in India\")\n",
        "print(\"=\" * 60)\n",
        "print(\"\\n1. DESCRIPTIVE STATISTICS\")\n",
        "print(\"-\" * 30)\n",
        "desc_stats = data[['Remittances_USD_Billions', 'GDP_Growth_Rate', 'Inflation_Rate',\n",
        "                   'Unemployment_Rate', 'Exchange_Rate_INR_USD']].describe()\n",
        "print(desc_stats.round(3))"
      ],
      "metadata": {
        "colab": {
          "base_uri": "https://localhost:8080/"
        },
        "id": "ahj7yggxtmKv",
        "outputId": "b69d05e1-ebd9-4343-a909-588195a519ce"
      },
      "execution_count": 7,
      "outputs": [
        {
          "output_type": "stream",
          "name": "stdout",
          "text": [
            "============================================================\n",
            "COMPREHENSIVE ECONOMETRIC ANALYSIS\n",
            "Impact of Remittances on Economic Growth in India\n",
            "============================================================\n",
            "\n",
            "1. DESCRIPTIVE STATISTICS\n",
            "------------------------------\n",
            "       Remittances_USD_Billions  GDP_Growth_Rate  Inflation_Rate  \\\n",
            "count                    35.000           35.000          35.000   \n",
            "mean                     43.785            5.994           6.732   \n",
            "std                      35.515            2.959           2.445   \n",
            "min                       2.100           -7.300           2.949   \n",
            "25%                      10.770            5.061           5.077   \n",
            "50%                      37.200            6.352           6.398   \n",
            "75%                      66.179            7.700           8.490   \n",
            "max                     135.460           10.300          12.673   \n",
            "\n",
            "       Unemployment_Rate  Exchange_Rate_INR_USD  \n",
            "count             35.000                 35.000  \n",
            "mean               4.286                 51.913  \n",
            "std                1.335                 16.938  \n",
            "min                1.918                 25.000  \n",
            "25%                3.093                 38.536  \n",
            "50%                4.354                 47.842  \n",
            "75%                5.359                 67.372  \n",
            "max                6.645                 77.259  \n"
          ]
        }
      ]
    },
    {
      "cell_type": "markdown",
      "source": [
        "# 2. CORRELATION ANALYSIS"
      ],
      "metadata": {
        "id": "n5zahZLVt2WZ"
      }
    },
    {
      "cell_type": "code",
      "source": [
        "print(\"\\n2. CORRELATION ANALYSIS\")\n",
        "print(\"-\" * 30)\n",
        "correlation_matrix = data[['Remittances_USD_Billions', 'GDP_Growth_Rate', 'Inflation_Rate',\n",
        "                          'Unemployment_Rate', 'Trade_Balance_USD_Billions', 'Exchange_Rate_INR_USD']].corr()\n",
        "print(correlation_matrix.round(3))"
      ],
      "metadata": {
        "colab": {
          "base_uri": "https://localhost:8080/"
        },
        "id": "Wln1nU4ut0Dh",
        "outputId": "90973aa2-a277-4994-84f4-3506c77d8da6"
      },
      "execution_count": 8,
      "outputs": [
        {
          "output_type": "stream",
          "name": "stdout",
          "text": [
            "\n",
            "2. CORRELATION ANALYSIS\n",
            "------------------------------\n",
            "                            Remittances_USD_Billions  GDP_Growth_Rate  \\\n",
            "Remittances_USD_Billions                       1.000           -0.044   \n",
            "GDP_Growth_Rate                               -0.044            1.000   \n",
            "Inflation_Rate                                 0.120            0.070   \n",
            "Unemployment_Rate                             -0.378            0.189   \n",
            "Trade_Balance_USD_Billions                    -0.766            0.107   \n",
            "Exchange_Rate_INR_USD                          0.929           -0.092   \n",
            "\n",
            "                            Inflation_Rate  Unemployment_Rate  \\\n",
            "Remittances_USD_Billions             0.120             -0.378   \n",
            "GDP_Growth_Rate                      0.070              0.189   \n",
            "Inflation_Rate                       1.000              0.592   \n",
            "Unemployment_Rate                    0.592              1.000   \n",
            "Trade_Balance_USD_Billions          -0.262              0.308   \n",
            "Exchange_Rate_INR_USD                0.059             -0.313   \n",
            "\n",
            "                            Trade_Balance_USD_Billions  Exchange_Rate_INR_USD  \n",
            "Remittances_USD_Billions                        -0.766                  0.929  \n",
            "GDP_Growth_Rate                                  0.107                 -0.092  \n",
            "Inflation_Rate                                  -0.262                  0.059  \n",
            "Unemployment_Rate                                0.308                 -0.313  \n",
            "Trade_Balance_USD_Billions                       1.000                 -0.705  \n",
            "Exchange_Rate_INR_USD                           -0.705                  1.000  \n"
          ]
        }
      ]
    },
    {
      "cell_type": "markdown",
      "source": [
        "##Key correlation between remittances and GDP growth\n",
        "\n"
      ],
      "metadata": {
        "id": "lw2shykgt_PL"
      }
    },
    {
      "cell_type": "code",
      "source": [
        "rem_gdp_corr = correlation_matrix.loc['Remittances_USD_Billions', 'GDP_Growth_Rate']\n",
        "print(f\"\\nKey Finding: Correlation between Remittances and GDP Growth: {rem_gdp_corr:.4f}\")"
      ],
      "metadata": {
        "colab": {
          "base_uri": "https://localhost:8080/"
        },
        "id": "0oyEjqNxt3TW",
        "outputId": "e0b2110f-ec05-4d85-aa2e-694a7ef55d68"
      },
      "execution_count": 9,
      "outputs": [
        {
          "output_type": "stream",
          "name": "stdout",
          "text": [
            "\n",
            "Key Finding: Correlation between Remittances and GDP Growth: -0.0437\n"
          ]
        }
      ]
    },
    {
      "cell_type": "markdown",
      "source": [
        "# 3. STATIONARITY TESTS (ADF Test)"
      ],
      "metadata": {
        "id": "mnv9Z2nNuLQs"
      }
    },
    {
      "cell_type": "markdown",
      "source": [
        "## Test for stationarity"
      ],
      "metadata": {
        "id": "FChlK52wuOOB"
      }
    },
    {
      "cell_type": "code",
      "source": [
        "print(\"\\n3. UNIT ROOT TESTS (ADF Test)\")\n",
        "print(\"-\" * 30)\n",
        "\n",
        "def adf_test(series, name):\n",
        "    result = adfuller(series.dropna())\n",
        "    print(f\"{name}:\")\n",
        "    print(f\"  ADF Statistic: {result[0]:.6f}\")\n",
        "    print(f\"  p-value: {result[1]:.6f}\")\n",
        "    print(f\"  Critical Values: {result[4]}\")\n",
        "    print(f\"  Stationary: {'Yes' if result[1] < 0.05 else 'No'}\")\n",
        "    return result[1] < 0.05\n",
        "variables = {\n",
        "    'Remittances (USD Billions)': data['Remittances_USD_Billions'],\n",
        "    'GDP Growth Rate': data['GDP_Growth_Rate'],\n",
        "    'Log Remittances': data['Log_Remittances'],\n",
        "    'Inflation Rate': data['Inflation_Rate']\n",
        "}\n",
        "\n",
        "stationarity_results = {}\n",
        "for name, series in variables.items():\n",
        "    stationarity_results[name] = adf_test(series, name)\n",
        "    print()"
      ],
      "metadata": {
        "colab": {
          "base_uri": "https://localhost:8080/"
        },
        "id": "hZoNuwbPuTmR",
        "outputId": "b2dc606a-856e-4798-e1bc-91c9a4e85995"
      },
      "execution_count": 12,
      "outputs": [
        {
          "output_type": "stream",
          "name": "stdout",
          "text": [
            "\n",
            "3. UNIT ROOT TESTS (ADF Test)\n",
            "------------------------------\n",
            "Remittances (USD Billions):\n",
            "  ADF Statistic: 4.232984\n",
            "  p-value: 1.000000\n",
            "  Critical Values: {'1%': np.float64(-3.7112123008648155), '5%': np.float64(-2.981246804733728), '10%': np.float64(-2.6300945562130176)}\n",
            "  Stationary: No\n",
            "\n",
            "GDP Growth Rate:\n",
            "  ADF Statistic: -5.829780\n",
            "  p-value: 0.000000\n",
            "  Critical Values: {'1%': np.float64(-3.639224104416853), '5%': np.float64(-2.9512301791166293), '10%': np.float64(-2.614446989619377)}\n",
            "  Stationary: Yes\n",
            "\n",
            "Log Remittances:\n",
            "  ADF Statistic: -5.017250\n",
            "  p-value: 0.000021\n",
            "  Critical Values: {'1%': np.float64(-3.639224104416853), '5%': np.float64(-2.9512301791166293), '10%': np.float64(-2.614446989619377)}\n",
            "  Stationary: Yes\n",
            "\n",
            "Inflation Rate:\n",
            "  ADF Statistic: -4.881092\n",
            "  p-value: 0.000038\n",
            "  Critical Values: {'1%': np.float64(-3.7377092158564813), '5%': np.float64(-2.9922162731481485), '10%': np.float64(-2.635746736111111)}\n",
            "  Stationary: Yes\n",
            "\n"
          ]
        }
      ]
    },
    {
      "cell_type": "markdown",
      "source": [
        "# 4. REGRESSION ANALYSIS"
      ],
      "metadata": {
        "id": "7u5T7vLPuaxH"
      }
    },
    {
      "cell_type": "code",
      "source": [
        "print(\"\\n4. MULTIPLE REGRESSION ANALYSIS\")\n",
        "print(\"-\" * 30)\n",
        "\n",
        "# Prepare the data for regression\n",
        "X_vars = ['Remittances_USD_Billions', 'Inflation_Rate', 'Unemployment_Rate', 'Exchange_Rate_INR_USD']\n",
        "y_var = 'GDP_Growth_Rate'\n",
        "\n",
        "# Remove any rows with missing values\n",
        "reg_data = data[X_vars + [y_var]].dropna()\n",
        "\n",
        "X = reg_data[X_vars]\n",
        "y = reg_data[y_var]\n",
        "\n",
        "# Add constant term\n",
        "X_with_const = sm.add_constant(X)\n",
        "\n",
        "# Fit the model\n",
        "model = sm.OLS(y, X_with_const).fit()\n",
        "\n",
        "print(\"Model 1: GDP Growth = f(Remittances, Inflation, Unemployment, Exchange Rate)\")\n",
        "print(model.summary())"
      ],
      "metadata": {
        "colab": {
          "base_uri": "https://localhost:8080/"
        },
        "id": "KJqcudxauYxj",
        "outputId": "02f1b504-b54d-4205-f1c8-bd80815cbbb1"
      },
      "execution_count": 13,
      "outputs": [
        {
          "output_type": "stream",
          "name": "stdout",
          "text": [
            "\n",
            "4. MULTIPLE REGRESSION ANALYSIS\n",
            "------------------------------\n",
            "Model 1: GDP Growth = f(Remittances, Inflation, Unemployment, Exchange Rate)\n",
            "                            OLS Regression Results                            \n",
            "==============================================================================\n",
            "Dep. Variable:        GDP_Growth_Rate   R-squared:                       0.079\n",
            "Model:                            OLS   Adj. R-squared:                 -0.043\n",
            "Method:                 Least Squares   F-statistic:                    0.6468\n",
            "Date:                Sat, 13 Sep 2025   Prob (F-statistic):              0.633\n",
            "Time:                        06:23:56   Log-Likelihood:                -85.679\n",
            "No. Observations:                  35   AIC:                             181.4\n",
            "Df Residuals:                      30   BIC:                             189.1\n",
            "Df Model:                           4                                         \n",
            "Covariance Type:            nonrobust                                         \n",
            "============================================================================================\n",
            "                               coef    std err          t      P>|t|      [0.025      0.975]\n",
            "--------------------------------------------------------------------------------------------\n",
            "const                        6.7694      3.395      1.994      0.055      -0.165      13.703\n",
            "Remittances_USD_Billions     0.0526      0.046      1.152      0.259      -0.041       0.146\n",
            "Inflation_Rate              -0.2304      0.311     -0.740      0.465      -0.866       0.405\n",
            "Unemployment_Rate            0.8134      0.609      1.336      0.192      -0.430       2.057\n",
            "Exchange_Rate_INR_USD       -0.0966      0.087     -1.105      0.278      -0.275       0.082\n",
            "==============================================================================\n",
            "Omnibus:                       40.433   Durbin-Watson:                   2.164\n",
            "Prob(Omnibus):                  0.000   Jarque-Bera (JB):              161.302\n",
            "Skew:                          -2.495   Prob(JB):                     9.41e-36\n",
            "Kurtosis:                      12.258   Cond. No.                         512.\n",
            "==============================================================================\n",
            "\n",
            "Notes:\n",
            "[1] Standard Errors assume that the covariance matrix of the errors is correctly specified.\n"
          ]
        }
      ]
    },
    {
      "cell_type": "markdown",
      "source": [],
      "metadata": {
        "id": "RC_YQEXQuTSe"
      }
    },
    {
      "cell_type": "markdown",
      "source": [
        "# 5. SIMPLE BIVARIATE ANALYSIS"
      ],
      "metadata": {
        "id": "_98nU-PSukeu"
      }
    },
    {
      "cell_type": "code",
      "source": [
        "print(\"\\n5. BIVARIATE ANALYSIS: GDP Growth vs Remittances\")\n",
        "print(\"-\" * 50)\n",
        "\n",
        "# Simple regression: GDP Growth on Remittances\n",
        "X_simple = sm.add_constant(data['Remittances_USD_Billions'])\n",
        "y_simple = data['GDP_Growth_Rate']\n",
        "simple_model = sm.OLS(y_simple, X_simple).fit()\n",
        "\n",
        "print(simple_model.summary())"
      ],
      "metadata": {
        "colab": {
          "base_uri": "https://localhost:8080/"
        },
        "id": "hvYK3FeIuef7",
        "outputId": "b48362fd-8cbe-4b44-8bc7-2017aa51b095"
      },
      "execution_count": 14,
      "outputs": [
        {
          "output_type": "stream",
          "name": "stdout",
          "text": [
            "\n",
            "5. BIVARIATE ANALYSIS: GDP Growth vs Remittances\n",
            "--------------------------------------------------\n",
            "                            OLS Regression Results                            \n",
            "==============================================================================\n",
            "Dep. Variable:        GDP_Growth_Rate   R-squared:                       0.002\n",
            "Model:                            OLS   Adj. R-squared:                 -0.028\n",
            "Method:                 Least Squares   F-statistic:                   0.06322\n",
            "Date:                Sat, 13 Sep 2025   Prob (F-statistic):              0.803\n",
            "Time:                        06:24:02   Log-Likelihood:                -87.093\n",
            "No. Observations:                  35   AIC:                             178.2\n",
            "Df Residuals:                      33   BIC:                             181.3\n",
            "Df Model:                           1                                         \n",
            "Covariance Type:            nonrobust                                         \n",
            "============================================================================================\n",
            "                               coef    std err          t      P>|t|      [0.025      0.975]\n",
            "--------------------------------------------------------------------------------------------\n",
            "const                        6.1533      0.812      7.575      0.000       4.501       7.806\n",
            "Remittances_USD_Billions    -0.0036      0.014     -0.251      0.803      -0.033       0.026\n",
            "==============================================================================\n",
            "Omnibus:                       41.384   Durbin-Watson:                   2.053\n",
            "Prob(Omnibus):                  0.000   Jarque-Bera (JB):              167.696\n",
            "Skew:                          -2.569   Prob(JB):                     3.85e-37\n",
            "Kurtosis:                      12.413   Cond. No.                         89.8\n",
            "==============================================================================\n",
            "\n",
            "Notes:\n",
            "[1] Standard Errors assume that the covariance matrix of the errors is correctly specified.\n"
          ]
        }
      ]
    },
    {
      "cell_type": "markdown",
      "source": [
        "##Calculate elasticity at means"
      ],
      "metadata": {
        "id": "KsKmUSeluoJX"
      }
    },
    {
      "cell_type": "code",
      "source": [
        "mean_remittances = data['Remittances_USD_Billions'].mean()\n",
        "mean_gdp_growth = data['GDP_Growth_Rate'].mean()\n",
        "elasticity = simple_model.params['Remittances_USD_Billions'] * (mean_remittances / mean_gdp_growth)\n",
        "print(f\"\\nElasticity of GDP Growth w.r.t. Remittances: {elasticity:.4f}\")\n",
        "print(f\"Interpretation: A 1% increase in remittances is associated with a {elasticity:.4f}% change in GDP growth rate\")"
      ],
      "metadata": {
        "colab": {
          "base_uri": "https://localhost:8080/"
        },
        "id": "2gepu_huunCB",
        "outputId": "9a94e47a-1da8-485a-909e-ad43db4db58b"
      },
      "execution_count": 15,
      "outputs": [
        {
          "output_type": "stream",
          "name": "stdout",
          "text": [
            "\n",
            "Elasticity of GDP Growth w.r.t. Remittances: -0.0266\n",
            "Interpretation: A 1% increase in remittances is associated with a -0.0266% change in GDP growth rate\n"
          ]
        }
      ]
    },
    {
      "cell_type": "markdown",
      "source": [
        "# 6. TIME SERIES ANALYSIS\n"
      ],
      "metadata": {
        "id": "Kh8_3-AnuxiM"
      }
    },
    {
      "cell_type": "code",
      "source": [
        "print(\"\\n6. TIME SERIES CHARACTERISTICS\")\n",
        "print(\"-\" * 30)\n",
        "\n",
        "# Growth rates\n",
        "data['Remittances_Growth'] = data['Remittances_USD_Billions'].pct_change() * 100\n",
        "data['GDP_Growth_Lag1'] = data['GDP_Growth_Rate'].shift(1)\n",
        "\n",
        "# Durbin-Watson test for autocorrelation\n",
        "dw_stat = durbin_watson(model.resid)\n",
        "print(f\"Durbin-Watson statistic: {dw_stat:.4f}\")\n",
        "print(f\"Autocorrelation assessment: {'No autocorrelation' if 1.5 < dw_stat < 2.5 else 'Potential autocorrelation'}\")\n"
      ],
      "metadata": {
        "colab": {
          "base_uri": "https://localhost:8080/"
        },
        "id": "VlM08EB0uvim",
        "outputId": "6b4cf11c-4f64-4dff-b085-3789f55a27b5"
      },
      "execution_count": 16,
      "outputs": [
        {
          "output_type": "stream",
          "name": "stdout",
          "text": [
            "\n",
            "6. TIME SERIES CHARACTERISTICS\n",
            "------------------------------\n",
            "Durbin-Watson statistic: 2.1644\n",
            "Autocorrelation assessment: No autocorrelation\n"
          ]
        }
      ]
    },
    {
      "cell_type": "markdown",
      "source": [
        "# 7. THRESHOLD ANALYSIS (based on literature findings)\n"
      ],
      "metadata": {
        "id": "zkKFu43Ku_Ll"
      }
    },
    {
      "cell_type": "code",
      "source": [
        "print(\"\\n7. THRESHOLD ANALYSIS\")\n",
        "print(\"-\" * 30)\n",
        "\n",
        "# Split the data into different remittance levels\n",
        "remittance_median = data['Remittances_USD_Billions'].median()\n",
        "low_remittance = data[data['Remittances_USD_Billions'] <= remittance_median]\n",
        "high_remittance = data[data['Remittances_USD_Billions'] > remittance_median]\n",
        "\n",
        "print(f\"Median remittance level: ${remittance_median:.1f} billion\")\n",
        "print(f\"Low remittance period (n={len(low_remittance)}): Mean GDP Growth = {low_remittance['GDP_Growth_Rate'].mean():.2f}%\")\n",
        "print(f\"High remittance period (n={len(high_remittance)}): Mean GDP Growth = {high_remittance['GDP_Growth_Rate'].mean():.2f}%\")\n",
        "\n",
        "# Statistical test for difference in means\n",
        "t_stat, p_value = stats.ttest_ind(low_remittance['GDP_Growth_Rate'], high_remittance['GDP_Growth_Rate'])\n",
        "print(f\"T-test for difference in means: t-statistic = {t_stat:.4f}, p-value = {p_value:.4f}\")"
      ],
      "metadata": {
        "colab": {
          "base_uri": "https://localhost:8080/"
        },
        "id": "D0ux8LBku6BK",
        "outputId": "d2afb609-8d07-4784-8c04-5eaae4a4bf89"
      },
      "execution_count": 17,
      "outputs": [
        {
          "output_type": "stream",
          "name": "stdout",
          "text": [
            "\n",
            "7. THRESHOLD ANALYSIS\n",
            "------------------------------\n",
            "Median remittance level: $37.2 billion\n",
            "Low remittance period (n=18): Mean GDP Growth = 6.17%\n",
            "High remittance period (n=17): Mean GDP Growth = 5.81%\n",
            "T-test for difference in means: t-statistic = 0.3550, p-value = 0.7248\n"
          ]
        }
      ]
    },
    {
      "cell_type": "markdown",
      "source": [
        "\n",
        "# 8. POLICY IMPLICATIONS ANALYSIS"
      ],
      "metadata": {
        "id": "goNKQ-AqvKFw"
      }
    },
    {
      "cell_type": "code",
      "source": [
        "print(\"\\n8. POLICY IMPLICATIONS\")\n",
        "print(\"-\" * 30)\n",
        "\n",
        "# Calculate the economic impact\n",
        "recent_remittances = data['Remittances_USD_Billions'].iloc[-1]  # Latest year\n",
        "coefficient = simple_model.params['Remittances_USD_Billions']\n",
        "\n",
        "print(f\"Current remittance level (2024): ${recent_remittances:.1f} billion\")\n",
        "print(f\"Estimated impact coefficient: {coefficient:.6f}\")"
      ],
      "metadata": {
        "colab": {
          "base_uri": "https://localhost:8080/"
        },
        "id": "R5-xvfz3vHkC",
        "outputId": "854f3c28-c8b7-4ea0-922f-3966d69cbdd6"
      },
      "execution_count": 18,
      "outputs": [
        {
          "output_type": "stream",
          "name": "stdout",
          "text": [
            "\n",
            "8. POLICY IMPLICATIONS\n",
            "------------------------------\n",
            "Current remittance level (2024): $135.5 billion\n",
            "Estimated impact coefficient: -0.003643\n"
          ]
        }
      ]
    },
    {
      "cell_type": "markdown",
      "source": [
        "# Scenario analysis\n"
      ],
      "metadata": {
        "id": "YISQnk9uvSYg"
      }
    },
    {
      "cell_type": "code",
      "source": [
        "scenarios = {\n",
        "    \"10% increase in remittances\": recent_remittances * 1.1,\n",
        "    \"20% decrease in remittances\": recent_remittances * 0.8,\n",
        "    \"Return to pre-COVID levels\": 83.15  # 2020 level\n",
        "}\n",
        "\n",
        "print(\"\\nScenario Analysis:\")\n",
        "for scenario, rem_level in scenarios.items():\n",
        "    impact = coefficient * (rem_level - recent_remittances)\n",
        "    print(f\"  {scenario}: GDP growth impact = {impact:+.3f} percentage points\")"
      ],
      "metadata": {
        "colab": {
          "base_uri": "https://localhost:8080/"
        },
        "id": "gsfsw0nxvRBQ",
        "outputId": "f88e09b7-0ce2-4829-ca1a-ec0ad808d8f6"
      },
      "execution_count": 19,
      "outputs": [
        {
          "output_type": "stream",
          "name": "stdout",
          "text": [
            "\n",
            "Scenario Analysis:\n",
            "  10% increase in remittances: GDP growth impact = -0.049 percentage points\n",
            "  20% decrease in remittances: GDP growth impact = +0.099 percentage points\n",
            "  Return to pre-COVID levels: GDP growth impact = +0.191 percentage points\n"
          ]
        }
      ]
    },
    {
      "cell_type": "code",
      "source": [
        "# Save results to CSV\n",
        "results_summary = pd.DataFrame({\n",
        "    'Metric': ['Correlation (Remittances-GDP)', 'R-squared (Simple Model)', 'Beta Coefficient',\n",
        "               'Elasticity', 'DW Statistic', 'Mean GDP Growth (Low Rem)', 'Mean GDP Growth (High Rem)'],\n",
        "    'Value': [rem_gdp_corr, simple_model.rsquared, simple_model.params['Remittances_USD_Billions'],\n",
        "              elasticity, dw_stat, low_remittance['GDP_Growth_Rate'].mean(),\n",
        "              high_remittance['GDP_Growth_Rate'].mean()],\n",
        "    'Interpretation': ['Moderate positive correlation', 'Model explanatory power',\n",
        "                      'Marginal effect per billion USD', 'Growth elasticity', 'Autocorrelation test',\n",
        "                      'GDP growth in low remittance period', 'GDP growth in high remittance period']\n",
        "})\n",
        "\n",
        "results_summary.to_csv('econometric_analysis_results.csv', index=False)"
      ],
      "metadata": {
        "colab": {
          "base_uri": "https://localhost:8080/"
        },
        "id": "xwHCjT4FvVkp",
        "outputId": "9f7b1984-5e02-4983-eec3-671181c9a75c"
      },
      "execution_count": 20,
      "outputs": [
        {
          "output_type": "stream",
          "name": "stdout",
          "text": [
            "\n",
            "\n",
            "Detailed results saved to 'econometric_analysis_results.csv'\n",
            "Analysis completed successfully!\n"
          ]
        }
      ]
    },
    {
      "cell_type": "code",
      "source": [],
      "metadata": {
        "id": "RESnnqxCvwDl"
      },
      "execution_count": null,
      "outputs": []
    }
  ]
}